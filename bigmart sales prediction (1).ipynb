{
 "cells": [
  {
   "cell_type": "markdown",
   "id": "28b5ee3c",
   "metadata": {},
   "source": [
    "# Big Mart Sales Prediction"
   ]
  },
  {
   "cell_type": "markdown",
   "id": "3f83318b",
   "metadata": {},
   "source": [
    "# Importing Libraries"
   ]
  },
  {
   "cell_type": "code",
   "execution_count": 1,
   "id": "a57f9a1b",
   "metadata": {},
   "outputs": [],
   "source": [
    "import numpy as np\n",
    "import pandas as pd\n",
    "import matplotlib.pyplot as plt\n",
    "import seaborn as sns\n",
    "import sklearn\n",
    "%matplotlib inline"
   ]
  },
  {
   "cell_type": "markdown",
   "id": "d7b9290e",
   "metadata": {},
   "source": [
    "Importing operating system to see the directory of the file"
   ]
  },
  {
   "cell_type": "code",
   "execution_count": 2,
   "id": "b36eb435",
   "metadata": {},
   "outputs": [],
   "source": [
    "import os"
   ]
  },
  {
   "cell_type": "code",
   "execution_count": 3,
   "id": "9505f760",
   "metadata": {},
   "outputs": [
    {
     "data": {
      "text/plain": [
       "'C:\\\\Users\\\\arbaazkhan\\\\Downloads\\\\ana python\\\\Untitled Folder'"
      ]
     },
     "execution_count": 3,
     "metadata": {},
     "output_type": "execute_result"
    }
   ],
   "source": [
    "os.getcwd()"
   ]
  },
  {
   "cell_type": "markdown",
   "id": "59e6ad69",
   "metadata": {},
   "source": [
    "Loading train and test data by using pandas "
   ]
  },
  {
   "cell_type": "code",
   "execution_count": 4,
   "id": "18563a95",
   "metadata": {},
   "outputs": [],
   "source": [
    "train_data=pd.read_csv('train.csv')\n",
    "test_data=pd.read_csv('test.csv')"
   ]
  },
  {
   "cell_type": "markdown",
   "id": "b91bd0e1",
   "metadata": {},
   "source": [
    "We have train (8523) and test (5681) data set, train data set has both input and output variable(s). We need to predict the sales for test data set.\n",
    "\n",
    "Item_Identifier: Unique product ID\n",
    "\n",
    "Item_Weight: Weight of product\n",
    "\n",
    "Item_Fat_Content: Whether the product is low fat or not\n",
    "\n",
    "Item_Visibility: The % of total display area of all products in a store allocated to the particular product\n",
    "\n",
    "Item_Type: The category to which the product belongs\n",
    "\n",
    "Item_MRP: Maximum Retail Price (list price) of the product\n",
    "\n",
    "Outlet_Identifier: Unique store ID\n",
    "\n",
    "Outlet_Establishment_Year: The year in which store was established\n",
    "\n",
    "Outlet_Size: The size of the store in terms of ground area covered\n",
    "\n",
    "Outlet_Location_Type: The type of city in which the store is located\n",
    "\n",
    "Outlet_Type: Whether the outlet is just a grocery store or some sort of supermarket\n",
    "\n",
    "Item_Outlet_Sales: Sales of the product in the particulat store. This is the outcome variable to be predicted."
   ]
  },
  {
   "cell_type": "markdown",
   "id": "72e79242",
   "metadata": {},
   "source": [
    "Looking head of the training data "
   ]
  },
  {
   "cell_type": "code",
   "execution_count": 5,
   "id": "583852d0",
   "metadata": {},
   "outputs": [
    {
     "data": {
      "text/html": [
       "<div>\n",
       "<style scoped>\n",
       "    .dataframe tbody tr th:only-of-type {\n",
       "        vertical-align: middle;\n",
       "    }\n",
       "\n",
       "    .dataframe tbody tr th {\n",
       "        vertical-align: top;\n",
       "    }\n",
       "\n",
       "    .dataframe thead th {\n",
       "        text-align: right;\n",
       "    }\n",
       "</style>\n",
       "<table border=\"1\" class=\"dataframe\">\n",
       "  <thead>\n",
       "    <tr style=\"text-align: right;\">\n",
       "      <th></th>\n",
       "      <th>Item_Identifier</th>\n",
       "      <th>Item_Weight</th>\n",
       "      <th>Item_Fat_Content</th>\n",
       "      <th>Item_Visibility</th>\n",
       "      <th>Item_Type</th>\n",
       "      <th>Item_MRP</th>\n",
       "      <th>Outlet_Identifier</th>\n",
       "      <th>Outlet_Establishment_Year</th>\n",
       "      <th>Outlet_Size</th>\n",
       "      <th>Outlet_Location_Type</th>\n",
       "      <th>Outlet_Type</th>\n",
       "      <th>Item_Outlet_Sales</th>\n",
       "    </tr>\n",
       "  </thead>\n",
       "  <tbody>\n",
       "    <tr>\n",
       "      <th>0</th>\n",
       "      <td>FDA15</td>\n",
       "      <td>9.30</td>\n",
       "      <td>Low Fat</td>\n",
       "      <td>0.016047</td>\n",
       "      <td>Dairy</td>\n",
       "      <td>249.8092</td>\n",
       "      <td>OUT049</td>\n",
       "      <td>1999</td>\n",
       "      <td>Medium</td>\n",
       "      <td>Tier 1</td>\n",
       "      <td>Supermarket Type1</td>\n",
       "      <td>3735.1380</td>\n",
       "    </tr>\n",
       "    <tr>\n",
       "      <th>1</th>\n",
       "      <td>DRC01</td>\n",
       "      <td>5.92</td>\n",
       "      <td>Regular</td>\n",
       "      <td>0.019278</td>\n",
       "      <td>Soft Drinks</td>\n",
       "      <td>48.2692</td>\n",
       "      <td>OUT018</td>\n",
       "      <td>2009</td>\n",
       "      <td>Medium</td>\n",
       "      <td>Tier 3</td>\n",
       "      <td>Supermarket Type2</td>\n",
       "      <td>443.4228</td>\n",
       "    </tr>\n",
       "    <tr>\n",
       "      <th>2</th>\n",
       "      <td>FDN15</td>\n",
       "      <td>17.50</td>\n",
       "      <td>Low Fat</td>\n",
       "      <td>0.016760</td>\n",
       "      <td>Meat</td>\n",
       "      <td>141.6180</td>\n",
       "      <td>OUT049</td>\n",
       "      <td>1999</td>\n",
       "      <td>Medium</td>\n",
       "      <td>Tier 1</td>\n",
       "      <td>Supermarket Type1</td>\n",
       "      <td>2097.2700</td>\n",
       "    </tr>\n",
       "    <tr>\n",
       "      <th>3</th>\n",
       "      <td>FDX07</td>\n",
       "      <td>19.20</td>\n",
       "      <td>Regular</td>\n",
       "      <td>0.000000</td>\n",
       "      <td>Fruits and Vegetables</td>\n",
       "      <td>182.0950</td>\n",
       "      <td>OUT010</td>\n",
       "      <td>1998</td>\n",
       "      <td>NaN</td>\n",
       "      <td>Tier 3</td>\n",
       "      <td>Grocery Store</td>\n",
       "      <td>732.3800</td>\n",
       "    </tr>\n",
       "    <tr>\n",
       "      <th>4</th>\n",
       "      <td>NCD19</td>\n",
       "      <td>8.93</td>\n",
       "      <td>Low Fat</td>\n",
       "      <td>0.000000</td>\n",
       "      <td>Household</td>\n",
       "      <td>53.8614</td>\n",
       "      <td>OUT013</td>\n",
       "      <td>1987</td>\n",
       "      <td>High</td>\n",
       "      <td>Tier 3</td>\n",
       "      <td>Supermarket Type1</td>\n",
       "      <td>994.7052</td>\n",
       "    </tr>\n",
       "  </tbody>\n",
       "</table>\n",
       "</div>"
      ],
      "text/plain": [
       "  Item_Identifier  Item_Weight Item_Fat_Content  Item_Visibility  \\\n",
       "0           FDA15         9.30          Low Fat         0.016047   \n",
       "1           DRC01         5.92          Regular         0.019278   \n",
       "2           FDN15        17.50          Low Fat         0.016760   \n",
       "3           FDX07        19.20          Regular         0.000000   \n",
       "4           NCD19         8.93          Low Fat         0.000000   \n",
       "\n",
       "               Item_Type  Item_MRP Outlet_Identifier  \\\n",
       "0                  Dairy  249.8092            OUT049   \n",
       "1            Soft Drinks   48.2692            OUT018   \n",
       "2                   Meat  141.6180            OUT049   \n",
       "3  Fruits and Vegetables  182.0950            OUT010   \n",
       "4              Household   53.8614            OUT013   \n",
       "\n",
       "   Outlet_Establishment_Year Outlet_Size Outlet_Location_Type  \\\n",
       "0                       1999      Medium               Tier 1   \n",
       "1                       2009      Medium               Tier 3   \n",
       "2                       1999      Medium               Tier 1   \n",
       "3                       1998         NaN               Tier 3   \n",
       "4                       1987        High               Tier 3   \n",
       "\n",
       "         Outlet_Type  Item_Outlet_Sales  \n",
       "0  Supermarket Type1          3735.1380  \n",
       "1  Supermarket Type2           443.4228  \n",
       "2  Supermarket Type1          2097.2700  \n",
       "3      Grocery Store           732.3800  \n",
       "4  Supermarket Type1           994.7052  "
      ]
     },
     "execution_count": 5,
     "metadata": {},
     "output_type": "execute_result"
    }
   ],
   "source": [
    "train_data.head()"
   ]
  },
  {
   "cell_type": "code",
   "execution_count": 6,
   "id": "e95e3fa0",
   "metadata": {},
   "outputs": [
    {
     "data": {
      "text/plain": [
       "((8523, 12), (5681, 11))"
      ]
     },
     "execution_count": 6,
     "metadata": {},
     "output_type": "execute_result"
    }
   ],
   "source": [
    "train_data.shape, test_data.shape"
   ]
  },
  {
   "cell_type": "code",
   "execution_count": 7,
   "id": "6905087c",
   "metadata": {},
   "outputs": [
    {
     "data": {
      "text/html": [
       "<div>\n",
       "<style scoped>\n",
       "    .dataframe tbody tr th:only-of-type {\n",
       "        vertical-align: middle;\n",
       "    }\n",
       "\n",
       "    .dataframe tbody tr th {\n",
       "        vertical-align: top;\n",
       "    }\n",
       "\n",
       "    .dataframe thead th {\n",
       "        text-align: right;\n",
       "    }\n",
       "</style>\n",
       "<table border=\"1\" class=\"dataframe\">\n",
       "  <thead>\n",
       "    <tr style=\"text-align: right;\">\n",
       "      <th></th>\n",
       "      <th>Item_Identifier</th>\n",
       "      <th>Item_Weight</th>\n",
       "      <th>Item_Fat_Content</th>\n",
       "      <th>Item_Visibility</th>\n",
       "      <th>Item_Type</th>\n",
       "      <th>Item_MRP</th>\n",
       "      <th>Outlet_Identifier</th>\n",
       "      <th>Outlet_Establishment_Year</th>\n",
       "      <th>Outlet_Size</th>\n",
       "      <th>Outlet_Location_Type</th>\n",
       "      <th>Outlet_Type</th>\n",
       "    </tr>\n",
       "  </thead>\n",
       "  <tbody>\n",
       "    <tr>\n",
       "      <th>0</th>\n",
       "      <td>FDW58</td>\n",
       "      <td>20.750</td>\n",
       "      <td>Low Fat</td>\n",
       "      <td>0.007565</td>\n",
       "      <td>Snack Foods</td>\n",
       "      <td>107.8622</td>\n",
       "      <td>OUT049</td>\n",
       "      <td>1999</td>\n",
       "      <td>Medium</td>\n",
       "      <td>Tier 1</td>\n",
       "      <td>Supermarket Type1</td>\n",
       "    </tr>\n",
       "    <tr>\n",
       "      <th>1</th>\n",
       "      <td>FDW14</td>\n",
       "      <td>8.300</td>\n",
       "      <td>reg</td>\n",
       "      <td>0.038428</td>\n",
       "      <td>Dairy</td>\n",
       "      <td>87.3198</td>\n",
       "      <td>OUT017</td>\n",
       "      <td>2007</td>\n",
       "      <td>NaN</td>\n",
       "      <td>Tier 2</td>\n",
       "      <td>Supermarket Type1</td>\n",
       "    </tr>\n",
       "    <tr>\n",
       "      <th>2</th>\n",
       "      <td>NCN55</td>\n",
       "      <td>14.600</td>\n",
       "      <td>Low Fat</td>\n",
       "      <td>0.099575</td>\n",
       "      <td>Others</td>\n",
       "      <td>241.7538</td>\n",
       "      <td>OUT010</td>\n",
       "      <td>1998</td>\n",
       "      <td>NaN</td>\n",
       "      <td>Tier 3</td>\n",
       "      <td>Grocery Store</td>\n",
       "    </tr>\n",
       "    <tr>\n",
       "      <th>3</th>\n",
       "      <td>FDQ58</td>\n",
       "      <td>7.315</td>\n",
       "      <td>Low Fat</td>\n",
       "      <td>0.015388</td>\n",
       "      <td>Snack Foods</td>\n",
       "      <td>155.0340</td>\n",
       "      <td>OUT017</td>\n",
       "      <td>2007</td>\n",
       "      <td>NaN</td>\n",
       "      <td>Tier 2</td>\n",
       "      <td>Supermarket Type1</td>\n",
       "    </tr>\n",
       "    <tr>\n",
       "      <th>4</th>\n",
       "      <td>FDY38</td>\n",
       "      <td>NaN</td>\n",
       "      <td>Regular</td>\n",
       "      <td>0.118599</td>\n",
       "      <td>Dairy</td>\n",
       "      <td>234.2300</td>\n",
       "      <td>OUT027</td>\n",
       "      <td>1985</td>\n",
       "      <td>Medium</td>\n",
       "      <td>Tier 3</td>\n",
       "      <td>Supermarket Type3</td>\n",
       "    </tr>\n",
       "  </tbody>\n",
       "</table>\n",
       "</div>"
      ],
      "text/plain": [
       "  Item_Identifier  Item_Weight Item_Fat_Content  Item_Visibility    Item_Type  \\\n",
       "0           FDW58       20.750          Low Fat         0.007565  Snack Foods   \n",
       "1           FDW14        8.300              reg         0.038428        Dairy   \n",
       "2           NCN55       14.600          Low Fat         0.099575       Others   \n",
       "3           FDQ58        7.315          Low Fat         0.015388  Snack Foods   \n",
       "4           FDY38          NaN          Regular         0.118599        Dairy   \n",
       "\n",
       "   Item_MRP Outlet_Identifier  Outlet_Establishment_Year Outlet_Size  \\\n",
       "0  107.8622            OUT049                       1999      Medium   \n",
       "1   87.3198            OUT017                       2007         NaN   \n",
       "2  241.7538            OUT010                       1998         NaN   \n",
       "3  155.0340            OUT017                       2007         NaN   \n",
       "4  234.2300            OUT027                       1985      Medium   \n",
       "\n",
       "  Outlet_Location_Type        Outlet_Type  \n",
       "0               Tier 1  Supermarket Type1  \n",
       "1               Tier 2  Supermarket Type1  \n",
       "2               Tier 3      Grocery Store  \n",
       "3               Tier 2  Supermarket Type1  \n",
       "4               Tier 3  Supermarket Type3  "
      ]
     },
     "execution_count": 7,
     "metadata": {},
     "output_type": "execute_result"
    }
   ],
   "source": [
    "test_data.head()"
   ]
  },
  {
   "cell_type": "markdown",
   "id": "be164219",
   "metadata": {},
   "source": [
    "concating the train and test data in one single data"
   ]
  },
  {
   "cell_type": "code",
   "execution_count": 8,
   "id": "bfc062f6",
   "metadata": {},
   "outputs": [],
   "source": [
    "train_data['source']='train'\n",
    "test_data['source']='test'\n",
    "test_data['Item_Outlet_Sales']=0\n",
    "data=pd.concat([train_data,test_data],sort=False)"
   ]
  },
  {
   "cell_type": "code",
   "execution_count": 9,
   "id": "5051fe24",
   "metadata": {},
   "outputs": [
    {
     "name": "stdout",
     "output_type": "stream",
     "text": [
      "<class 'pandas.core.frame.DataFrame'>\n",
      "Int64Index: 14204 entries, 0 to 5680\n",
      "Data columns (total 13 columns):\n",
      " #   Column                     Non-Null Count  Dtype  \n",
      "---  ------                     --------------  -----  \n",
      " 0   Item_Identifier            14204 non-null  object \n",
      " 1   Item_Weight                11765 non-null  float64\n",
      " 2   Item_Fat_Content           14204 non-null  object \n",
      " 3   Item_Visibility            14204 non-null  float64\n",
      " 4   Item_Type                  14204 non-null  object \n",
      " 5   Item_MRP                   14204 non-null  float64\n",
      " 6   Outlet_Identifier          14204 non-null  object \n",
      " 7   Outlet_Establishment_Year  14204 non-null  int64  \n",
      " 8   Outlet_Size                10188 non-null  object \n",
      " 9   Outlet_Location_Type       14204 non-null  object \n",
      " 10  Outlet_Type                14204 non-null  object \n",
      " 11  Item_Outlet_Sales          14204 non-null  float64\n",
      " 12  source                     14204 non-null  object \n",
      "dtypes: float64(4), int64(1), object(8)\n",
      "memory usage: 1.5+ MB\n"
     ]
    }
   ],
   "source": [
    "data.info()"
   ]
  },
  {
   "cell_type": "code",
   "execution_count": 10,
   "id": "c86836ac",
   "metadata": {},
   "outputs": [
    {
     "data": {
      "text/plain": [
       "count    14204.000000\n",
       "mean      1308.865489\n",
       "std       1699.791423\n",
       "min          0.000000\n",
       "25%          0.000000\n",
       "50%        559.272000\n",
       "75%       2163.184200\n",
       "max      13086.964800\n",
       "Name: Item_Outlet_Sales, dtype: float64"
      ]
     },
     "execution_count": 10,
     "metadata": {},
     "output_type": "execute_result"
    }
   ],
   "source": [
    "data['Item_Outlet_Sales'].describe()\n",
    "\n",
    "\n",
    "\n"
   ]
  },
  {
   "cell_type": "code",
   "execution_count": 11,
   "id": "ef3b07c2",
   "metadata": {},
   "outputs": [
    {
     "name": "stderr",
     "output_type": "stream",
     "text": [
      "C:\\anaconda\\lib\\site-packages\\seaborn\\distributions.py:2557: FutureWarning: `distplot` is a deprecated function and will be removed in a future version. Please adapt your code to use either `displot` (a figure-level function with similar flexibility) or `histplot` (an axes-level function for histograms).\n",
      "  warnings.warn(msg, FutureWarning)\n"
     ]
    },
    {
     "data": {
      "text/plain": [
       "<AxesSubplot:xlabel='Item_Outlet_Sales', ylabel='Density'>"
      ]
     },
     "execution_count": 11,
     "metadata": {},
     "output_type": "execute_result"
    },
    {
     "data": {
      "image/png": "[encoded data removed]",
      "text/plain": [
       "<Figure size 432x288 with 1 Axes>"
      ]
     },
     "metadata": {
      "needs_background": "light"
     },
     "output_type": "display_data"
    }
   ],
   "source": [
    "sns.distplot(data['Item_Outlet_Sales'])"
   ]
  },
  {
   "cell_type": "markdown",
   "id": "3d832ffd",
   "metadata": {},
   "source": [
    "so here we have positive skewness"
   ]
  },
  {
   "cell_type": "code",
   "execution_count": 12,
   "id": "31491a77",
   "metadata": {},
   "outputs": [
    {
     "name": "stdout",
     "output_type": "stream",
     "text": [
      "skewness:1.544684\n",
      "kurtosis:2.419439\n"
     ]
    }
   ],
   "source": [
    "print('skewness:%f'%data['Item_Outlet_Sales'].skew())\n",
    "print('kurtosis:%f'%data['Item_Outlet_Sales'].kurt())"
   ]
  },
  {
   "cell_type": "code",
   "execution_count": 13,
   "id": "c43a768a",
   "metadata": {},
   "outputs": [
    {
     "data": {
      "text/plain": [
       "Item_Identifier               object\n",
       "Item_Weight                  float64\n",
       "Item_Fat_Content              object\n",
       "Item_Visibility              float64\n",
       "Item_Type                     object\n",
       "Item_MRP                     float64\n",
       "Outlet_Identifier             object\n",
       "Outlet_Establishment_Year      int64\n",
       "Outlet_Size                   object\n",
       "Outlet_Location_Type          object\n",
       "Outlet_Type                   object\n",
       "Item_Outlet_Sales            float64\n",
       "source                        object\n",
       "dtype: object"
      ]
     },
     "execution_count": 13,
     "metadata": {},
     "output_type": "execute_result"
    }
   ],
   "source": [
    "data.dtypes"
   ]
  },
  {
   "cell_type": "code",
   "execution_count": 14,
   "id": "4d73037d",
   "metadata": {},
   "outputs": [
    {
     "name": "stderr",
     "output_type": "stream",
     "text": [
      "<ipython-input-14-15eb8488e88a>:1: DeprecationWarning: `np.object` is a deprecated alias for the builtin `object`. To silence this warning, use `object` by itself. Doing this will not modify any behavior and is safe. \n",
      "Deprecated in NumPy 1.20; for more details and guidance: https://numpy.org/devdocs/release/1.20.0-notes.html#deprecations\n",
      "  categorical_feature=data.select_dtypes(include=[np.object])\n"
     ]
    },
    {
     "data": {
      "text/html": [
       "<div>\n",
       "<style scoped>\n",
       "    .dataframe tbody tr th:only-of-type {\n",
       "        vertical-align: middle;\n",
       "    }\n",
       "\n",
       "    .dataframe tbody tr th {\n",
       "        vertical-align: top;\n",
       "    }\n",
       "\n",
       "    .dataframe thead th {\n",
       "        text-align: right;\n",
       "    }\n",
       "</style>\n",
       "<table border=\"1\" class=\"dataframe\">\n",
       "  <thead>\n",
       "    <tr style=\"text-align: right;\">\n",
       "      <th></th>\n",
       "      <th>Item_Identifier</th>\n",
       "      <th>Item_Fat_Content</th>\n",
       "      <th>Item_Type</th>\n",
       "      <th>Outlet_Identifier</th>\n",
       "      <th>Outlet_Size</th>\n",
       "      <th>Outlet_Location_Type</th>\n",
       "      <th>Outlet_Type</th>\n",
       "      <th>source</th>\n",
       "    </tr>\n",
       "  </thead>\n",
       "  <tbody>\n",
       "    <tr>\n",
       "      <th>0</th>\n",
       "      <td>FDA15</td>\n",
       "      <td>Low Fat</td>\n",
       "      <td>Dairy</td>\n",
       "      <td>OUT049</td>\n",
       "      <td>Medium</td>\n",
       "      <td>Tier 1</td>\n",
       "      <td>Supermarket Type1</td>\n",
       "      <td>train</td>\n",
       "    </tr>\n",
       "    <tr>\n",
       "      <th>1</th>\n",
       "      <td>DRC01</td>\n",
       "      <td>Regular</td>\n",
       "      <td>Soft Drinks</td>\n",
       "      <td>OUT018</td>\n",
       "      <td>Medium</td>\n",
       "      <td>Tier 3</td>\n",
       "      <td>Supermarket Type2</td>\n",
       "      <td>train</td>\n",
       "    </tr>\n",
       "    <tr>\n",
       "      <th>2</th>\n",
       "      <td>FDN15</td>\n",
       "      <td>Low Fat</td>\n",
       "      <td>Meat</td>\n",
       "      <td>OUT049</td>\n",
       "      <td>Medium</td>\n",
       "      <td>Tier 1</td>\n",
       "      <td>Supermarket Type1</td>\n",
       "      <td>train</td>\n",
       "    </tr>\n",
       "    <tr>\n",
       "      <th>3</th>\n",
       "      <td>FDX07</td>\n",
       "      <td>Regular</td>\n",
       "      <td>Fruits and Vegetables</td>\n",
       "      <td>OUT010</td>\n",
       "      <td>NaN</td>\n",
       "      <td>Tier 3</td>\n",
       "      <td>Grocery Store</td>\n",
       "      <td>train</td>\n",
       "    </tr>\n",
       "    <tr>\n",
       "      <th>4</th>\n",
       "      <td>NCD19</td>\n",
       "      <td>Low Fat</td>\n",
       "      <td>Household</td>\n",
       "      <td>OUT013</td>\n",
       "      <td>High</td>\n",
       "      <td>Tier 3</td>\n",
       "      <td>Supermarket Type1</td>\n",
       "      <td>train</td>\n",
       "    </tr>\n",
       "  </tbody>\n",
       "</table>\n",
       "</div>"
      ],
      "text/plain": [
       "  Item_Identifier Item_Fat_Content              Item_Type Outlet_Identifier  \\\n",
       "0           FDA15          Low Fat                  Dairy            OUT049   \n",
       "1           DRC01          Regular            Soft Drinks            OUT018   \n",
       "2           FDN15          Low Fat                   Meat            OUT049   \n",
       "3           FDX07          Regular  Fruits and Vegetables            OUT010   \n",
       "4           NCD19          Low Fat              Household            OUT013   \n",
       "\n",
       "  Outlet_Size Outlet_Location_Type        Outlet_Type source  \n",
       "0      Medium               Tier 1  Supermarket Type1  train  \n",
       "1      Medium               Tier 3  Supermarket Type2  train  \n",
       "2      Medium               Tier 1  Supermarket Type1  train  \n",
       "3         NaN               Tier 3      Grocery Store  train  \n",
       "4        High               Tier 3  Supermarket Type1  train  "
      ]
     },
     "execution_count": 14,
     "metadata": {},
     "output_type": "execute_result"
    }
   ],
   "source": [
    "\n",
    "categorical_feature=data.select_dtypes(include=[np.object])\n",
    "categorical_feature.head(5)"
   ]
  },
  {
   "cell_type": "code",
   "execution_count": 15,
   "id": "75f7e895",
   "metadata": {},
   "outputs": [
    {
     "data": {
      "text/html": [
       "<div>\n",
       "<style scoped>\n",
       "    .dataframe tbody tr th:only-of-type {\n",
       "        vertical-align: middle;\n",
       "    }\n",
       "\n",
       "    .dataframe tbody tr th {\n",
       "        vertical-align: top;\n",
       "    }\n",
       "\n",
       "    .dataframe thead th {\n",
       "        text-align: right;\n",
       "    }\n",
       "</style>\n",
       "<table border=\"1\" class=\"dataframe\">\n",
       "  <thead>\n",
       "    <tr style=\"text-align: right;\">\n",
       "      <th></th>\n",
       "      <th>Item_Weight</th>\n",
       "      <th>Item_Visibility</th>\n",
       "      <th>Item_MRP</th>\n",
       "      <th>Outlet_Establishment_Year</th>\n",
       "      <th>Item_Outlet_Sales</th>\n",
       "    </tr>\n",
       "  </thead>\n",
       "  <tbody>\n",
       "    <tr>\n",
       "      <th>0</th>\n",
       "      <td>9.30</td>\n",
       "      <td>0.016047</td>\n",
       "      <td>249.8092</td>\n",
       "      <td>1999</td>\n",
       "      <td>3735.1380</td>\n",
       "    </tr>\n",
       "    <tr>\n",
       "      <th>1</th>\n",
       "      <td>5.92</td>\n",
       "      <td>0.019278</td>\n",
       "      <td>48.2692</td>\n",
       "      <td>2009</td>\n",
       "      <td>443.4228</td>\n",
       "    </tr>\n",
       "    <tr>\n",
       "      <th>2</th>\n",
       "      <td>17.50</td>\n",
       "      <td>0.016760</td>\n",
       "      <td>141.6180</td>\n",
       "      <td>1999</td>\n",
       "      <td>2097.2700</td>\n",
       "    </tr>\n",
       "    <tr>\n",
       "      <th>3</th>\n",
       "      <td>19.20</td>\n",
       "      <td>0.000000</td>\n",
       "      <td>182.0950</td>\n",
       "      <td>1998</td>\n",
       "      <td>732.3800</td>\n",
       "    </tr>\n",
       "    <tr>\n",
       "      <th>4</th>\n",
       "      <td>8.93</td>\n",
       "      <td>0.000000</td>\n",
       "      <td>53.8614</td>\n",
       "      <td>1987</td>\n",
       "      <td>994.7052</td>\n",
       "    </tr>\n",
       "    <tr>\n",
       "      <th>...</th>\n",
       "      <td>...</td>\n",
       "      <td>...</td>\n",
       "      <td>...</td>\n",
       "      <td>...</td>\n",
       "      <td>...</td>\n",
       "    </tr>\n",
       "    <tr>\n",
       "      <th>5676</th>\n",
       "      <td>10.50</td>\n",
       "      <td>0.013496</td>\n",
       "      <td>141.3154</td>\n",
       "      <td>1997</td>\n",
       "      <td>0.0000</td>\n",
       "    </tr>\n",
       "    <tr>\n",
       "      <th>5677</th>\n",
       "      <td>7.60</td>\n",
       "      <td>0.142991</td>\n",
       "      <td>169.1448</td>\n",
       "      <td>2009</td>\n",
       "      <td>0.0000</td>\n",
       "    </tr>\n",
       "    <tr>\n",
       "      <th>5678</th>\n",
       "      <td>10.00</td>\n",
       "      <td>0.073529</td>\n",
       "      <td>118.7440</td>\n",
       "      <td>2002</td>\n",
       "      <td>0.0000</td>\n",
       "    </tr>\n",
       "    <tr>\n",
       "      <th>5679</th>\n",
       "      <td>15.30</td>\n",
       "      <td>0.000000</td>\n",
       "      <td>214.6218</td>\n",
       "      <td>2007</td>\n",
       "      <td>0.0000</td>\n",
       "    </tr>\n",
       "    <tr>\n",
       "      <th>5680</th>\n",
       "      <td>9.50</td>\n",
       "      <td>0.104720</td>\n",
       "      <td>79.7960</td>\n",
       "      <td>2002</td>\n",
       "      <td>0.0000</td>\n",
       "    </tr>\n",
       "  </tbody>\n",
       "</table>\n",
       "<p>14204 rows × 5 columns</p>\n",
       "</div>"
      ],
      "text/plain": [
       "      Item_Weight  Item_Visibility  Item_MRP  Outlet_Establishment_Year  \\\n",
       "0            9.30         0.016047  249.8092                       1999   \n",
       "1            5.92         0.019278   48.2692                       2009   \n",
       "2           17.50         0.016760  141.6180                       1999   \n",
       "3           19.20         0.000000  182.0950                       1998   \n",
       "4            8.93         0.000000   53.8614                       1987   \n",
       "...           ...              ...       ...                        ...   \n",
       "5676        10.50         0.013496  141.3154                       1997   \n",
       "5677         7.60         0.142991  169.1448                       2009   \n",
       "5678        10.00         0.073529  118.7440                       2002   \n",
       "5679        15.30         0.000000  214.6218                       2007   \n",
       "5680         9.50         0.104720   79.7960                       2002   \n",
       "\n",
       "      Item_Outlet_Sales  \n",
       "0             3735.1380  \n",
       "1              443.4228  \n",
       "2             2097.2700  \n",
       "3              732.3800  \n",
       "4              994.7052  \n",
       "...                 ...  \n",
       "5676             0.0000  \n",
       "5677             0.0000  \n",
       "5678             0.0000  \n",
       "5679             0.0000  \n",
       "5680             0.0000  \n",
       "\n",
       "[14204 rows x 5 columns]"
      ]
     },
     "execution_count": 15,
     "metadata": {},
     "output_type": "execute_result"
    }
   ],
   "source": [
    "numerical_feature=data.select_dtypes(include=[np.number])\n",
    "numerical_feature"
   ]
  },
  {
   "cell_type": "code",
   "execution_count": 16,
   "id": "935c3de7",
   "metadata": {},
   "outputs": [
    {
     "data": {
      "text/plain": [
       "array([1999, 2009, 1998, 1987, 1985, 2002, 2007, 1997, 2004], dtype=int64)"
      ]
     },
     "execution_count": 16,
     "metadata": {},
     "output_type": "execute_result"
    }
   ],
   "source": [
    "data['Outlet_Establishment_Year'].unique()\n",
    "\n",
    "\n"
   ]
  },
  {
   "cell_type": "markdown",
   "id": "62570cdb",
   "metadata": {},
   "source": [
    "here we get the idea first establisment of store in 1985"
   ]
  },
  {
   "cell_type": "code",
   "execution_count": 17,
   "id": "8b1aa216",
   "metadata": {},
   "outputs": [
    {
     "data": {
      "text/plain": [
       "Item_Identifier                 0\n",
       "Item_Weight                  2439\n",
       "Item_Fat_Content                0\n",
       "Item_Visibility                 0\n",
       "Item_Type                       0\n",
       "Item_MRP                        0\n",
       "Outlet_Identifier               0\n",
       "Outlet_Establishment_Year       0\n",
       "Outlet_Size                  4016\n",
       "Outlet_Location_Type            0\n",
       "Outlet_Type                     0\n",
       "Item_Outlet_Sales               0\n",
       "source                          0\n",
       "dtype: int64"
      ]
     },
     "execution_count": 17,
     "metadata": {},
     "output_type": "execute_result"
    }
   ],
   "source": [
    "data.isnull().sum()"
   ]
  },
  {
   "cell_type": "code",
   "execution_count": 18,
   "id": "694c491d",
   "metadata": {},
   "outputs": [
    {
     "data": {
      "text/plain": [
       "Item_Identifier               1559\n",
       "Item_Weight                    415\n",
       "Item_Fat_Content                 5\n",
       "Item_Visibility              13006\n",
       "Item_Type                       16\n",
       "Item_MRP                      8052\n",
       "Outlet_Identifier               10\n",
       "Outlet_Establishment_Year        9\n",
       "Outlet_Size                      3\n",
       "Outlet_Location_Type             3\n",
       "Outlet_Type                      4\n",
       "Item_Outlet_Sales             3494\n",
       "source                           2\n",
       "dtype: int64"
      ]
     },
     "execution_count": 18,
     "metadata": {},
     "output_type": "execute_result"
    }
   ],
   "source": [
    "data.nunique()"
   ]
  },
  {
   "cell_type": "code",
   "execution_count": 19,
   "id": "994952ed",
   "metadata": {},
   "outputs": [
    {
     "name": "stdout",
     "output_type": "stream",
     "text": [
      "nItem_Identifier column:\n",
      "FDX31    10\n",
      "FDH12    10\n",
      "DRM11    10\n",
      "FDZ50    10\n",
      "FDS08    10\n",
      "         ..\n",
      "FDO33     7\n",
      "FDL50     7\n",
      "NCW54     7\n",
      "FDX49     7\n",
      "FDM50     7\n",
      "Name: Item_Identifier, Length: 1559, dtype: int64\n",
      "nItem_Fat_Content column:\n",
      "Low Fat    8485\n",
      "Regular    4824\n",
      "LF          522\n",
      "reg         195\n",
      "low fat     178\n",
      "Name: Item_Fat_Content, dtype: int64\n",
      "nItem_Type column:\n",
      "Fruits and Vegetables    2013\n",
      "Snack Foods              1989\n",
      "Household                1548\n",
      "Frozen Foods             1426\n",
      "Dairy                    1136\n",
      "Baking Goods             1086\n",
      "Canned                   1084\n",
      "Health and Hygiene        858\n",
      "Meat                      736\n",
      "Soft Drinks               726\n",
      "Breads                    416\n",
      "Hard Drinks               362\n",
      "Others                    280\n",
      "Starchy Foods             269\n",
      "Breakfast                 186\n",
      "Seafood                    89\n",
      "Name: Item_Type, dtype: int64\n",
      "nOutlet_Identifier column:\n",
      "OUT027    1559\n",
      "OUT013    1553\n",
      "OUT049    1550\n",
      "OUT035    1550\n",
      "OUT046    1550\n",
      "OUT045    1548\n",
      "OUT018    1546\n",
      "OUT017    1543\n",
      "OUT010     925\n",
      "OUT019     880\n",
      "Name: Outlet_Identifier, dtype: int64\n",
      "nOutlet_Size column:\n",
      "Medium    4655\n",
      "Small     3980\n",
      "High      1553\n",
      "Name: Outlet_Size, dtype: int64\n",
      "nOutlet_Location_Type column:\n",
      "Tier 3    5583\n",
      "Tier 2    4641\n",
      "Tier 1    3980\n",
      "Name: Outlet_Location_Type, dtype: int64\n",
      "nOutlet_Type column:\n",
      "Supermarket Type1    9294\n",
      "Grocery Store        1805\n",
      "Supermarket Type3    1559\n",
      "Supermarket Type2    1546\n",
      "Name: Outlet_Type, dtype: int64\n",
      "nsource column:\n",
      "train    8523\n",
      "test     5681\n",
      "Name: source, dtype: int64\n"
     ]
    }
   ],
   "source": [
    "#frequency of categorical columns\n",
    "for col in categorical_feature:\n",
    "    print('n%s column:'%col)\n",
    "    print(data[col].value_counts())"
   ]
  },
  {
   "cell_type": "markdown",
   "id": "71a6cb51",
   "metadata": {},
   "source": [
    "there is an error LF,reg and low fat in item fat content we have to fix it by replace "
   ]
  },
  {
   "cell_type": "code",
   "execution_count": 20,
   "id": "b27c3ea5",
   "metadata": {},
   "outputs": [],
   "source": [
    "data['Item_Fat_Content'].replace(to_replace={'LF':'Low Fat','reg':'Regular','low fat':'Low Fat'},inplace=True)"
   ]
  },
  {
   "cell_type": "code",
   "execution_count": 21,
   "id": "50ecd302",
   "metadata": {},
   "outputs": [
    {
     "name": "stdout",
     "output_type": "stream",
     "text": [
      "nItem_Identifier column:\n",
      "FDX31    10\n",
      "FDH12    10\n",
      "DRM11    10\n",
      "FDZ50    10\n",
      "FDS08    10\n",
      "         ..\n",
      "FDO33     7\n",
      "FDL50     7\n",
      "NCW54     7\n",
      "FDX49     7\n",
      "FDM50     7\n",
      "Name: Item_Identifier, Length: 1559, dtype: int64\n",
      "nItem_Fat_Content column:\n",
      "Low Fat    9185\n",
      "Regular    5019\n",
      "Name: Item_Fat_Content, dtype: int64\n",
      "nItem_Type column:\n",
      "Fruits and Vegetables    2013\n",
      "Snack Foods              1989\n",
      "Household                1548\n",
      "Frozen Foods             1426\n",
      "Dairy                    1136\n",
      "Baking Goods             1086\n",
      "Canned                   1084\n",
      "Health and Hygiene        858\n",
      "Meat                      736\n",
      "Soft Drinks               726\n",
      "Breads                    416\n",
      "Hard Drinks               362\n",
      "Others                    280\n",
      "Starchy Foods             269\n",
      "Breakfast                 186\n",
      "Seafood                    89\n",
      "Name: Item_Type, dtype: int64\n",
      "nOutlet_Identifier column:\n",
      "OUT027    1559\n",
      "OUT013    1553\n",
      "OUT049    1550\n",
      "OUT035    1550\n",
      "OUT046    1550\n",
      "OUT045    1548\n",
      "OUT018    1546\n",
      "OUT017    1543\n",
      "OUT010     925\n",
      "OUT019     880\n",
      "Name: Outlet_Identifier, dtype: int64\n",
      "nOutlet_Size column:\n",
      "Medium    4655\n",
      "Small     3980\n",
      "High      1553\n",
      "Name: Outlet_Size, dtype: int64\n",
      "nOutlet_Location_Type column:\n",
      "Tier 3    5583\n",
      "Tier 2    4641\n",
      "Tier 1    3980\n",
      "Name: Outlet_Location_Type, dtype: int64\n",
      "nOutlet_Type column:\n",
      "Supermarket Type1    9294\n",
      "Grocery Store        1805\n",
      "Supermarket Type3    1559\n",
      "Supermarket Type2    1546\n",
      "Name: Outlet_Type, dtype: int64\n",
      "nsource column:\n",
      "train    8523\n",
      "test     5681\n",
      "Name: source, dtype: int64\n"
     ]
    }
   ],
   "source": [
    "for col in categorical_feature:\n",
    "    print('n%s column:'%col)\n",
    "    print(data[col].value_counts())"
   ]
  },
  {
   "cell_type": "markdown",
   "id": "15126613",
   "metadata": {},
   "source": [
    "here we have filled item weight null value\n",
    "\n",
    "now its turn to outlet size"
   ]
  },
  {
   "cell_type": "code",
   "execution_count": 22,
   "id": "b75aa27b",
   "metadata": {},
   "outputs": [],
   "source": [
    "data['Outlet_Size'].fillna(data['Outlet_Size'].mode()[0],inplace=True)\n"
   ]
  },
  {
   "cell_type": "code",
   "execution_count": 23,
   "id": "e8d1a1e2",
   "metadata": {},
   "outputs": [],
   "source": [
    "data['Item_Weight'].fillna(data['Item_Weight'].mean(),inplace=True)"
   ]
  },
  {
   "cell_type": "markdown",
   "id": "9e35f83f",
   "metadata": {},
   "source": [
    "Here we are have categorical columns so we are filled null value by using mode function"
   ]
  },
  {
   "cell_type": "code",
   "execution_count": 24,
   "id": "8262a545",
   "metadata": {},
   "outputs": [
    {
     "name": "stdout",
     "output_type": "stream",
     "text": [
      "<class 'pandas.core.frame.DataFrame'>\n",
      "Int64Index: 14204 entries, 0 to 5680\n",
      "Data columns (total 13 columns):\n",
      " #   Column                     Non-Null Count  Dtype  \n",
      "---  ------                     --------------  -----  \n",
      " 0   Item_Identifier            14204 non-null  object \n",
      " 1   Item_Weight                14204 non-null  float64\n",
      " 2   Item_Fat_Content           14204 non-null  object \n",
      " 3   Item_Visibility            14204 non-null  float64\n",
      " 4   Item_Type                  14204 non-null  object \n",
      " 5   Item_MRP                   14204 non-null  float64\n",
      " 6   Outlet_Identifier          14204 non-null  object \n",
      " 7   Outlet_Establishment_Year  14204 non-null  int64  \n",
      " 8   Outlet_Size                14204 non-null  object \n",
      " 9   Outlet_Location_Type       14204 non-null  object \n",
      " 10  Outlet_Type                14204 non-null  object \n",
      " 11  Item_Outlet_Sales          14204 non-null  float64\n",
      " 12  source                     14204 non-null  object \n",
      "dtypes: float64(4), int64(1), object(8)\n",
      "memory usage: 1.5+ MB\n"
     ]
    }
   ],
   "source": [
    "data.info()"
   ]
  },
  {
   "cell_type": "code",
   "execution_count": 25,
   "id": "8747124c",
   "metadata": {},
   "outputs": [
    {
     "data": {
      "text/plain": [
       "<AxesSubplot:xlabel='Item_Fat_Content', ylabel='Item_Outlet_Sales'>"
      ]
     },
     "execution_count": 25,
     "metadata": {},
     "output_type": "execute_result"
    },
    {
     "data": {
      "image/png": "[encoded data removed]",
      "text/plain": [
       "<Figure size 720x432 with 1 Axes>"
      ]
     },
     "metadata": {
      "needs_background": "light"
     },
     "output_type": "display_data"
    }
   ],
   "source": [
    "plt.figure(figsize=(10,6))\n",
    "sns.boxplot(x='Item_Fat_Content',y='Item_Outlet_Sales',data=data)"
   ]
  },
  {
   "cell_type": "code",
   "execution_count": 26,
   "id": "3a3eafd1",
   "metadata": {},
   "outputs": [
    {
     "data": {
      "text/plain": [
       "<AxesSubplot:xlabel='Outlet_Size', ylabel='Item_Outlet_Sales'>"
      ]
     },
     "execution_count": 26,
     "metadata": {},
     "output_type": "execute_result"
    },
    {
     "data": {
      "image/png": "[encoded data removed]",
      "text/plain": [
       "<Figure size 720x432 with 1 Axes>"
      ]
     },
     "metadata": {
      "needs_background": "light"
     },
     "output_type": "display_data"
    }
   ],
   "source": [
    "plt.figure(figsize=(10,6))\n",
    "sns.boxplot(x='Outlet_Size',y='Item_Outlet_Sales',data=data)"
   ]
  },
  {
   "cell_type": "code",
   "execution_count": 27,
   "id": "11044f05",
   "metadata": {},
   "outputs": [
    {
     "data": {
      "text/plain": [
       "<AxesSubplot:xlabel='Outlet_Type', ylabel='Item_Outlet_Sales'>"
      ]
     },
     "execution_count": 27,
     "metadata": {},
     "output_type": "execute_result"
    },
    {
     "data": {
      "image/png": "[encoded data removed]",
      "text/plain": [
       "<Figure size 720x432 with 1 Axes>"
      ]
     },
     "metadata": {
      "needs_background": "light"
     },
     "output_type": "display_data"
    }
   ],
   "source": [
    "plt.figure(figsize=(10,6))\n",
    "sns.boxplot(x='Outlet_Type',y='Item_Outlet_Sales',data=data)"
   ]
  },
  {
   "cell_type": "code",
   "execution_count": 28,
   "id": "ff5557a9",
   "metadata": {},
   "outputs": [
    {
     "data": {
      "text/plain": [
       "<AxesSubplot:xlabel='Item_Type', ylabel='Item_Outlet_Sales'>"
      ]
     },
     "execution_count": 28,
     "metadata": {},
     "output_type": "execute_result"
    },
    {
     "data": {
      "image/png": "[encoded data removed]",
      "text/plain": [
       "<Figure size 1872x576 with 1 Axes>"
      ]
     },
     "metadata": {
      "needs_background": "light"
     },
     "output_type": "display_data"
    }
   ],
   "source": [
    "plt.figure(figsize=(26,8))\n",
    "sns.boxplot(x='Item_Type',y='Item_Outlet_Sales',data=data)"
   ]
  },
  {
   "cell_type": "code",
   "execution_count": 29,
   "id": "c240e6e2",
   "metadata": {},
   "outputs": [
    {
     "data": {
      "text/plain": [
       "<AxesSubplot:xlabel='Outlet_Establishment_Year'>"
      ]
     },
     "execution_count": 29,
     "metadata": {},
     "output_type": "execute_result"
    },
    {
     "data": {
      "image/png": "[encoded data removed]",
      "text/plain": [
       "<Figure size 432x288 with 1 Axes>"
      ]
     },
     "metadata": {
      "needs_background": "light"
     },
     "output_type": "display_data"
    }
   ],
   "source": [
    "data.groupby('Outlet_Establishment_Year')['Item_Outlet_Sales'].mean().plot.bar()\n"
   ]
  },
  {
   "cell_type": "code",
   "execution_count": 30,
   "id": "ce27e342",
   "metadata": {},
   "outputs": [
    {
     "data": {
      "text/plain": [
       "Grocery Store    925\n",
       "Name: Outlet_Type, dtype: int64"
      ]
     },
     "execution_count": 30,
     "metadata": {},
     "output_type": "execute_result"
    }
   ],
   "source": [
    "temp_data=data.loc[data['Outlet_Establishment_Year']==1998]\n",
    "temp_data['Outlet_Type'].value_counts()"
   ]
  },
  {
   "cell_type": "markdown",
   "id": "601aba03",
   "metadata": {},
   "source": [
    "\n",
    "Based on the observation from 1998 data, we can see there is only Grocery Store Type as Outlet_Type thus Item_Outlet_Sale is minimum.\n",
    "\n",
    "Thought to remove those data as part of data cleaning for more accurate model, however we need to check first it's posibilities in test data as well"
   ]
  },
  {
   "cell_type": "code",
   "execution_count": 31,
   "id": "5ce25b4a",
   "metadata": {},
   "outputs": [
    {
     "data": {
      "text/plain": [
       "Grocery Store    370\n",
       "Name: Outlet_Type, dtype: int64"
      ]
     },
     "execution_count": 31,
     "metadata": {},
     "output_type": "execute_result"
    }
   ],
   "source": [
    "temp_data=test_data.loc[test_data['Outlet_Establishment_Year']==1998]\n",
    "temp_data['Outlet_Type'].value_counts()"
   ]
  },
  {
   "cell_type": "code",
   "execution_count": 33,
   "id": "9c02a1c9",
   "metadata": {},
   "outputs": [],
   "source": [
    "from sklearn.preprocessing import LabelEncoder\n",
    "le=LabelEncoder()\n",
    "data['outlet']=le.fit_transform(data['Outlet_Identifier'])\n",
    "var_mod=['Item_Fat_Content','Item_Type','Outlet_Identifier','Outlet_Size',\n",
    "                                 'Outlet_Location_Type','Outlet_Type']\n",
    "for i in var_mod:\n",
    "    data[i]=le.fit_transform(data[i])"
   ]
  },
  {
   "cell_type": "code",
   "execution_count": 35,
   "id": "0fad365b",
   "metadata": {},
   "outputs": [
    {
     "data": {
      "text/html": [
       "<div>\n",
       "<style scoped>\n",
       "    .dataframe tbody tr th:only-of-type {\n",
       "        vertical-align: middle;\n",
       "    }\n",
       "\n",
       "    .dataframe tbody tr th {\n",
       "        vertical-align: top;\n",
       "    }\n",
       "\n",
       "    .dataframe thead th {\n",
       "        text-align: right;\n",
       "    }\n",
       "</style>\n",
       "<table border=\"1\" class=\"dataframe\">\n",
       "  <thead>\n",
       "    <tr style=\"text-align: right;\">\n",
       "      <th></th>\n",
       "      <th>Item_Identifier</th>\n",
       "      <th>Item_Weight</th>\n",
       "      <th>Item_Fat_Content</th>\n",
       "      <th>Item_Visibility</th>\n",
       "      <th>Item_Type</th>\n",
       "      <th>Item_MRP</th>\n",
       "      <th>Outlet_Identifier</th>\n",
       "      <th>Outlet_Establishment_Year</th>\n",
       "      <th>Outlet_Size</th>\n",
       "      <th>Outlet_Location_Type</th>\n",
       "      <th>Outlet_Type</th>\n",
       "      <th>Item_Outlet_Sales</th>\n",
       "      <th>source</th>\n",
       "      <th>outlet</th>\n",
       "    </tr>\n",
       "  </thead>\n",
       "  <tbody>\n",
       "    <tr>\n",
       "      <th>0</th>\n",
       "      <td>FDA15</td>\n",
       "      <td>9.30</td>\n",
       "      <td>0</td>\n",
       "      <td>0.016047</td>\n",
       "      <td>4</td>\n",
       "      <td>249.8092</td>\n",
       "      <td>9</td>\n",
       "      <td>1999</td>\n",
       "      <td>1</td>\n",
       "      <td>0</td>\n",
       "      <td>1</td>\n",
       "      <td>3735.1380</td>\n",
       "      <td>train</td>\n",
       "      <td>9</td>\n",
       "    </tr>\n",
       "    <tr>\n",
       "      <th>1</th>\n",
       "      <td>DRC01</td>\n",
       "      <td>5.92</td>\n",
       "      <td>1</td>\n",
       "      <td>0.019278</td>\n",
       "      <td>14</td>\n",
       "      <td>48.2692</td>\n",
       "      <td>3</td>\n",
       "      <td>2009</td>\n",
       "      <td>1</td>\n",
       "      <td>2</td>\n",
       "      <td>2</td>\n",
       "      <td>443.4228</td>\n",
       "      <td>train</td>\n",
       "      <td>3</td>\n",
       "    </tr>\n",
       "    <tr>\n",
       "      <th>2</th>\n",
       "      <td>FDN15</td>\n",
       "      <td>17.50</td>\n",
       "      <td>0</td>\n",
       "      <td>0.016760</td>\n",
       "      <td>10</td>\n",
       "      <td>141.6180</td>\n",
       "      <td>9</td>\n",
       "      <td>1999</td>\n",
       "      <td>1</td>\n",
       "      <td>0</td>\n",
       "      <td>1</td>\n",
       "      <td>2097.2700</td>\n",
       "      <td>train</td>\n",
       "      <td>9</td>\n",
       "    </tr>\n",
       "    <tr>\n",
       "      <th>3</th>\n",
       "      <td>FDX07</td>\n",
       "      <td>19.20</td>\n",
       "      <td>1</td>\n",
       "      <td>0.000000</td>\n",
       "      <td>6</td>\n",
       "      <td>182.0950</td>\n",
       "      <td>0</td>\n",
       "      <td>1998</td>\n",
       "      <td>1</td>\n",
       "      <td>2</td>\n",
       "      <td>0</td>\n",
       "      <td>732.3800</td>\n",
       "      <td>train</td>\n",
       "      <td>0</td>\n",
       "    </tr>\n",
       "    <tr>\n",
       "      <th>4</th>\n",
       "      <td>NCD19</td>\n",
       "      <td>8.93</td>\n",
       "      <td>0</td>\n",
       "      <td>0.000000</td>\n",
       "      <td>9</td>\n",
       "      <td>53.8614</td>\n",
       "      <td>1</td>\n",
       "      <td>1987</td>\n",
       "      <td>0</td>\n",
       "      <td>2</td>\n",
       "      <td>1</td>\n",
       "      <td>994.7052</td>\n",
       "      <td>train</td>\n",
       "      <td>1</td>\n",
       "    </tr>\n",
       "    <tr>\n",
       "      <th>...</th>\n",
       "      <td>...</td>\n",
       "      <td>...</td>\n",
       "      <td>...</td>\n",
       "      <td>...</td>\n",
       "      <td>...</td>\n",
       "      <td>...</td>\n",
       "      <td>...</td>\n",
       "      <td>...</td>\n",
       "      <td>...</td>\n",
       "      <td>...</td>\n",
       "      <td>...</td>\n",
       "      <td>...</td>\n",
       "      <td>...</td>\n",
       "      <td>...</td>\n",
       "    </tr>\n",
       "    <tr>\n",
       "      <th>5676</th>\n",
       "      <td>FDB58</td>\n",
       "      <td>10.50</td>\n",
       "      <td>1</td>\n",
       "      <td>0.013496</td>\n",
       "      <td>13</td>\n",
       "      <td>141.3154</td>\n",
       "      <td>8</td>\n",
       "      <td>1997</td>\n",
       "      <td>2</td>\n",
       "      <td>0</td>\n",
       "      <td>1</td>\n",
       "      <td>0.0000</td>\n",
       "      <td>test</td>\n",
       "      <td>8</td>\n",
       "    </tr>\n",
       "    <tr>\n",
       "      <th>5677</th>\n",
       "      <td>FDD47</td>\n",
       "      <td>7.60</td>\n",
       "      <td>1</td>\n",
       "      <td>0.142991</td>\n",
       "      <td>15</td>\n",
       "      <td>169.1448</td>\n",
       "      <td>3</td>\n",
       "      <td>2009</td>\n",
       "      <td>1</td>\n",
       "      <td>2</td>\n",
       "      <td>2</td>\n",
       "      <td>0.0000</td>\n",
       "      <td>test</td>\n",
       "      <td>3</td>\n",
       "    </tr>\n",
       "    <tr>\n",
       "      <th>5678</th>\n",
       "      <td>NCO17</td>\n",
       "      <td>10.00</td>\n",
       "      <td>0</td>\n",
       "      <td>0.073529</td>\n",
       "      <td>8</td>\n",
       "      <td>118.7440</td>\n",
       "      <td>7</td>\n",
       "      <td>2002</td>\n",
       "      <td>1</td>\n",
       "      <td>1</td>\n",
       "      <td>1</td>\n",
       "      <td>0.0000</td>\n",
       "      <td>test</td>\n",
       "      <td>7</td>\n",
       "    </tr>\n",
       "    <tr>\n",
       "      <th>5679</th>\n",
       "      <td>FDJ26</td>\n",
       "      <td>15.30</td>\n",
       "      <td>1</td>\n",
       "      <td>0.000000</td>\n",
       "      <td>3</td>\n",
       "      <td>214.6218</td>\n",
       "      <td>2</td>\n",
       "      <td>2007</td>\n",
       "      <td>1</td>\n",
       "      <td>1</td>\n",
       "      <td>1</td>\n",
       "      <td>0.0000</td>\n",
       "      <td>test</td>\n",
       "      <td>2</td>\n",
       "    </tr>\n",
       "    <tr>\n",
       "      <th>5680</th>\n",
       "      <td>FDU37</td>\n",
       "      <td>9.50</td>\n",
       "      <td>1</td>\n",
       "      <td>0.104720</td>\n",
       "      <td>3</td>\n",
       "      <td>79.7960</td>\n",
       "      <td>7</td>\n",
       "      <td>2002</td>\n",
       "      <td>1</td>\n",
       "      <td>1</td>\n",
       "      <td>1</td>\n",
       "      <td>0.0000</td>\n",
       "      <td>test</td>\n",
       "      <td>7</td>\n",
       "    </tr>\n",
       "  </tbody>\n",
       "</table>\n",
       "<p>14204 rows × 14 columns</p>\n",
       "</div>"
      ],
      "text/plain": [
       "     Item_Identifier  Item_Weight  Item_Fat_Content  Item_Visibility  \\\n",
       "0              FDA15         9.30                 0         0.016047   \n",
       "1              DRC01         5.92                 1         0.019278   \n",
       "2              FDN15        17.50                 0         0.016760   \n",
       "3              FDX07        19.20                 1         0.000000   \n",
       "4              NCD19         8.93                 0         0.000000   \n",
       "...              ...          ...               ...              ...   \n",
       "5676           FDB58        10.50                 1         0.013496   \n",
       "5677           FDD47         7.60                 1         0.142991   \n",
       "5678           NCO17        10.00                 0         0.073529   \n",
       "5679           FDJ26        15.30                 1         0.000000   \n",
       "5680           FDU37         9.50                 1         0.104720   \n",
       "\n",
       "      Item_Type  Item_MRP  Outlet_Identifier  Outlet_Establishment_Year  \\\n",
       "0             4  249.8092                  9                       1999   \n",
       "1            14   48.2692                  3                       2009   \n",
       "2            10  141.6180                  9                       1999   \n",
       "3             6  182.0950                  0                       1998   \n",
       "4             9   53.8614                  1                       1987   \n",
       "...         ...       ...                ...                        ...   \n",
       "5676         13  141.3154                  8                       1997   \n",
       "5677         15  169.1448                  3                       2009   \n",
       "5678          8  118.7440                  7                       2002   \n",
       "5679          3  214.6218                  2                       2007   \n",
       "5680          3   79.7960                  7                       2002   \n",
       "\n",
       "      Outlet_Size  Outlet_Location_Type  Outlet_Type  Item_Outlet_Sales  \\\n",
       "0               1                     0            1          3735.1380   \n",
       "1               1                     2            2           443.4228   \n",
       "2               1                     0            1          2097.2700   \n",
       "3               1                     2            0           732.3800   \n",
       "4               0                     2            1           994.7052   \n",
       "...           ...                   ...          ...                ...   \n",
       "5676            2                     0            1             0.0000   \n",
       "5677            1                     2            2             0.0000   \n",
       "5678            1                     1            1             0.0000   \n",
       "5679            1                     1            1             0.0000   \n",
       "5680            1                     1            1             0.0000   \n",
       "\n",
       "     source  outlet  \n",
       "0     train       9  \n",
       "1     train       3  \n",
       "2     train       9  \n",
       "3     train       0  \n",
       "4     train       1  \n",
       "...     ...     ...  \n",
       "5676   test       8  \n",
       "5677   test       3  \n",
       "5678   test       7  \n",
       "5679   test       2  \n",
       "5680   test       7  \n",
       "\n",
       "[14204 rows x 14 columns]"
      ]
     },
     "execution_count": 35,
     "metadata": {},
     "output_type": "execute_result"
    }
   ],
   "source": [
    "data"
   ]
  },
  {
   "cell_type": "code",
   "execution_count": 36,
   "id": "616bb60e",
   "metadata": {},
   "outputs": [],
   "source": [
    "#droping the unnecessary columns\n",
    "data.drop(['Item_Identifier','Outlet_Establishment_Year'],axis=1,inplace=True)"
   ]
  },
  {
   "cell_type": "code",
   "execution_count": 37,
   "id": "08e44460",
   "metadata": {},
   "outputs": [],
   "source": [
    "#dividing the data into train and test\n",
    "train=data.loc[data['source']=='train']\n",
    "test=data.loc[data['source']=='test']\n"
   ]
  },
  {
   "cell_type": "code",
   "execution_count": 38,
   "id": "caf2582b",
   "metadata": {},
   "outputs": [
    {
     "name": "stderr",
     "output_type": "stream",
     "text": [
      "C:\\anaconda\\lib\\site-packages\\pandas\\core\\frame.py:4308: SettingWithCopyWarning: \n",
      "A value is trying to be set on a copy of a slice from a DataFrame\n",
      "\n",
      "See the caveats in the documentation: https://pandas.pydata.org/pandas-docs/stable/user_guide/indexing.html#returning-a-view-versus-a-copy\n",
      "  return super().drop(\n"
     ]
    }
   ],
   "source": [
    "test.drop(['Item_Outlet_Sales','source'],axis=1,inplace=True)\n",
    "train.drop(['source'],axis=1,inplace=True)"
   ]
  },
  {
   "cell_type": "code",
   "execution_count": 39,
   "id": "26ae3c65",
   "metadata": {},
   "outputs": [],
   "source": [
    "#exporting file to train and test\n",
    "train.to_csv('train_modified.csv',index=False)\n",
    "test.to_csv('test_modified.csv',index=False)"
   ]
  },
  {
   "cell_type": "code",
   "execution_count": 40,
   "id": "f5de0491",
   "metadata": {},
   "outputs": [],
   "source": [
    "train_data=pd.read_csv('train_modified.csv')\n",
    "test_data=pd.read_csv('test_modified.csv')"
   ]
  },
  {
   "cell_type": "code",
   "execution_count": 41,
   "id": "fdb16117",
   "metadata": {},
   "outputs": [],
   "source": [
    "x=train_data.drop(['Item_Outlet_Sales'],axis=1)\n",
    "y=train_data['Item_Outlet_Sales']"
   ]
  },
  {
   "cell_type": "code",
   "execution_count": 42,
   "id": "035fade7",
   "metadata": {},
   "outputs": [],
   "source": [
    "from sklearn.model_selection import train_test_split"
   ]
  },
  {
   "cell_type": "code",
   "execution_count": 43,
   "id": "5f629b3f",
   "metadata": {},
   "outputs": [],
   "source": [
    "x_train, x_test, y_train, y_test = train_test_split(x, y, test_size=0.2, random_state=101)"
   ]
  },
  {
   "cell_type": "code",
   "execution_count": 44,
   "id": "9dbacbf6",
   "metadata": {},
   "outputs": [],
   "source": [
    "from sklearn.preprocessing import StandardScaler\n",
    "sc=StandardScaler()"
   ]
  },
  {
   "cell_type": "code",
   "execution_count": 45,
   "id": "e143a063",
   "metadata": {},
   "outputs": [],
   "source": [
    "x_train_std=sc.fit_transform(x_train)"
   ]
  },
  {
   "cell_type": "code",
   "execution_count": 46,
   "id": "f9d9daea",
   "metadata": {},
   "outputs": [],
   "source": [
    "x_test_std=sc.transform(x_test)"
   ]
  },
  {
   "cell_type": "code",
   "execution_count": 47,
   "id": "dfaee55c",
   "metadata": {},
   "outputs": [],
   "source": [
    "from sklearn.linear_model import LinearRegression\n",
    "lr=LinearRegression()"
   ]
  },
  {
   "cell_type": "code",
   "execution_count": 48,
   "id": "2f8b9a47",
   "metadata": {},
   "outputs": [
    {
     "data": {
      "text/plain": [
       "LinearRegression()"
      ]
     },
     "execution_count": 48,
     "metadata": {},
     "output_type": "execute_result"
    }
   ],
   "source": [
    "lr.fit(x_train_std,y_train)"
   ]
  },
  {
   "cell_type": "code",
   "execution_count": 49,
   "id": "e1f7bb3e",
   "metadata": {},
   "outputs": [
    {
     "data": {
      "text/html": [
       "<div>\n",
       "<style scoped>\n",
       "    .dataframe tbody tr th:only-of-type {\n",
       "        vertical-align: middle;\n",
       "    }\n",
       "\n",
       "    .dataframe tbody tr th {\n",
       "        vertical-align: top;\n",
       "    }\n",
       "\n",
       "    .dataframe thead th {\n",
       "        text-align: right;\n",
       "    }\n",
       "</style>\n",
       "<table border=\"1\" class=\"dataframe\">\n",
       "  <thead>\n",
       "    <tr style=\"text-align: right;\">\n",
       "      <th></th>\n",
       "      <th>Item_Weight</th>\n",
       "      <th>Item_Fat_Content</th>\n",
       "      <th>Item_Visibility</th>\n",
       "      <th>Item_Type</th>\n",
       "      <th>Item_MRP</th>\n",
       "      <th>Outlet_Identifier</th>\n",
       "      <th>Outlet_Size</th>\n",
       "      <th>Outlet_Location_Type</th>\n",
       "      <th>Outlet_Type</th>\n",
       "      <th>outlet</th>\n",
       "    </tr>\n",
       "  </thead>\n",
       "  <tbody>\n",
       "    <tr>\n",
       "      <th>8179</th>\n",
       "      <td>11.00</td>\n",
       "      <td>0</td>\n",
       "      <td>0.055163</td>\n",
       "      <td>8</td>\n",
       "      <td>100.3358</td>\n",
       "      <td>3</td>\n",
       "      <td>1</td>\n",
       "      <td>2</td>\n",
       "      <td>2</td>\n",
       "      <td>3</td>\n",
       "    </tr>\n",
       "    <tr>\n",
       "      <th>8355</th>\n",
       "      <td>18.00</td>\n",
       "      <td>0</td>\n",
       "      <td>0.038979</td>\n",
       "      <td>13</td>\n",
       "      <td>148.6418</td>\n",
       "      <td>1</td>\n",
       "      <td>0</td>\n",
       "      <td>2</td>\n",
       "      <td>1</td>\n",
       "      <td>1</td>\n",
       "    </tr>\n",
       "    <tr>\n",
       "      <th>3411</th>\n",
       "      <td>7.72</td>\n",
       "      <td>1</td>\n",
       "      <td>0.074731</td>\n",
       "      <td>1</td>\n",
       "      <td>77.5986</td>\n",
       "      <td>8</td>\n",
       "      <td>2</td>\n",
       "      <td>0</td>\n",
       "      <td>1</td>\n",
       "      <td>8</td>\n",
       "    </tr>\n",
       "    <tr>\n",
       "      <th>7089</th>\n",
       "      <td>20.70</td>\n",
       "      <td>0</td>\n",
       "      <td>0.049035</td>\n",
       "      <td>6</td>\n",
       "      <td>39.9506</td>\n",
       "      <td>2</td>\n",
       "      <td>1</td>\n",
       "      <td>1</td>\n",
       "      <td>1</td>\n",
       "      <td>2</td>\n",
       "    </tr>\n",
       "    <tr>\n",
       "      <th>6954</th>\n",
       "      <td>7.55</td>\n",
       "      <td>0</td>\n",
       "      <td>0.027225</td>\n",
       "      <td>3</td>\n",
       "      <td>152.9340</td>\n",
       "      <td>7</td>\n",
       "      <td>1</td>\n",
       "      <td>1</td>\n",
       "      <td>1</td>\n",
       "      <td>7</td>\n",
       "    </tr>\n",
       "  </tbody>\n",
       "</table>\n",
       "</div>"
      ],
      "text/plain": [
       "      Item_Weight  Item_Fat_Content  Item_Visibility  Item_Type  Item_MRP  \\\n",
       "8179        11.00                 0         0.055163          8  100.3358   \n",
       "8355        18.00                 0         0.038979         13  148.6418   \n",
       "3411         7.72                 1         0.074731          1   77.5986   \n",
       "7089        20.70                 0         0.049035          6   39.9506   \n",
       "6954         7.55                 0         0.027225          3  152.9340   \n",
       "\n",
       "      Outlet_Identifier  Outlet_Size  Outlet_Location_Type  Outlet_Type  \\\n",
       "8179                  3            1                     2            2   \n",
       "8355                  1            0                     2            1   \n",
       "3411                  8            2                     0            1   \n",
       "7089                  2            1                     1            1   \n",
       "6954                  7            1                     1            1   \n",
       "\n",
       "      outlet  \n",
       "8179       3  \n",
       "8355       1  \n",
       "3411       8  \n",
       "7089       2  \n",
       "6954       7  "
      ]
     },
     "execution_count": 49,
     "metadata": {},
     "output_type": "execute_result"
    }
   ],
   "source": [
    "x_test.head()"
   ]
  },
  {
   "cell_type": "code",
   "execution_count": 50,
   "id": "8ae01cc2",
   "metadata": {},
   "outputs": [],
   "source": [
    "y_pred=lr.predict(x_test_std)"
   ]
  },
  {
   "cell_type": "code",
   "execution_count": 51,
   "id": "dc36972f",
   "metadata": {},
   "outputs": [
    {
     "data": {
      "text/plain": [
       "8179     904.8222\n",
       "8355    2795.6942\n",
       "3411    1947.4650\n",
       "7089     872.8638\n",
       "6954    2450.1440\n",
       "          ...    \n",
       "1317    1721.0930\n",
       "4996     914.8092\n",
       "531      370.1848\n",
       "3891    1358.2320\n",
       "6629    2418.1856\n",
       "Name: Item_Outlet_Sales, Length: 1705, dtype: float64"
      ]
     },
     "execution_count": 51,
     "metadata": {},
     "output_type": "execute_result"
    }
   ],
   "source": [
    "y_test"
   ]
  },
  {
   "cell_type": "code",
   "execution_count": 62,
   "id": "2e1612fe",
   "metadata": {},
   "outputs": [],
   "source": [
    "import joblib"
   ]
  },
  {
   "cell_type": "code",
   "execution_count": 63,
   "id": "e51e3be4",
   "metadata": {},
   "outputs": [
    {
     "data": {
      "text/plain": [
       "['C:\\\\Users\\\\arbaazkhan\\\\Downloads\\\\ana python\\\\Untitled Folder\\\\venv\\\\models\\\\sc.sav']"
      ]
     },
     "execution_count": 63,
     "metadata": {},
     "output_type": "execute_result"
    }
   ],
   "source": [
    "joblib.dump(sc,r'C:\\Users\\arbaazkhan\\Downloads\\ana python\\Untitled Folder\\venv\\models\\sc.sav')"
   ]
  },
  {
   "cell_type": "code",
   "execution_count": 55,
   "id": "ea9b9398",
   "metadata": {},
   "outputs": [],
   "source": [
    "from sklearn.metrics import r2_score,mean_absolute_error,mean_squared_error"
   ]
  },
  {
   "cell_type": "code",
   "execution_count": 56,
   "id": "29654082",
   "metadata": {},
   "outputs": [
    {
     "name": "stdout",
     "output_type": "stream",
     "text": [
      "0.5075674885875066\n",
      "878.8738376422509\n",
      "1158.4723575827545\n"
     ]
    }
   ],
   "source": [
    "print(r2_score(y_test,y_pred))\n",
    "print(mean_absolute_error(y_test,y_pred))\n",
    "print(np.sqrt(mean_squared_error(y_test,y_pred)))"
   ]
  },
  {
   "cell_type": "code",
   "execution_count": 57,
   "id": "ed6a169d",
   "metadata": {},
   "outputs": [],
   "source": [
    "from sklearn.ensemble import RandomForestRegressor\n",
    "rf=RandomForestRegressor(n_estimators=1000)"
   ]
  },
  {
   "cell_type": "code",
   "execution_count": 58,
   "id": "c707159f",
   "metadata": {},
   "outputs": [
    {
     "data": {
      "text/plain": [
       "RandomForestRegressor(n_estimators=1000)"
      ]
     },
     "execution_count": 58,
     "metadata": {},
     "output_type": "execute_result"
    }
   ],
   "source": [
    "rf.fit(x_train_std,y_train)"
   ]
  },
  {
   "cell_type": "code",
   "execution_count": 59,
   "id": "b59086ee",
   "metadata": {},
   "outputs": [
    {
     "data": {
      "text/plain": [
       "array([1675.9797236, 3416.8636286, 1303.6210866, ...,  402.5180454,\n",
       "       1654.2719804, 2273.5212418])"
      ]
     },
     "execution_count": 59,
     "metadata": {},
     "output_type": "execute_result"
    }
   ],
   "source": [
    "y_pred=rf.predict(x_test_std)\n",
    "y_pred"
   ]
  },
  {
   "cell_type": "code",
   "execution_count": 60,
   "id": "bca732f9",
   "metadata": {},
   "outputs": [
    {
     "name": "stdout",
     "output_type": "stream",
     "text": [
      "0.5483218972758434\n",
      "781.4291595432256\n",
      "1109.4987944369338\n"
     ]
    }
   ],
   "source": [
    "print(r2_score(y_test,y_pred))\n",
    "print(mean_absolute_error(y_test,y_pred))\n",
    "print(np.sqrt(mean_squared_error(y_test,y_pred)))"
   ]
  },
  {
   "cell_type": "code",
   "execution_count": 61,
   "id": "bf03d05b",
   "metadata": {},
   "outputs": [
    {
     "name": "stdout",
     "output_type": "stream",
     "text": [
      "Fitting 3 folds for each of 3 candidates, totalling 9 fits\n",
      "best:0.560 using{'n_estimators': 1000}\n",
      "0.519) (0.007) with:[{'n_estimators': 10}, {'n_estimators': 100}, {'n_estimators': 1000}]\n",
      "0.558) (0.006) with:[{'n_estimators': 10}, {'n_estimators': 100}, {'n_estimators': 1000}]\n",
      "0.560) (0.005) with:[{'n_estimators': 10}, {'n_estimators': 100}, {'n_estimators': 1000}]\n"
     ]
    }
   ],
   "source": [
    "from sklearn.model_selection import RepeatedStratifiedKFold\n",
    "from sklearn.model_selection import GridSearchCV\n",
    "\n",
    "#define model and paramter\n",
    "model=RandomForestRegressor()\n",
    "n_estimators=[10,100,1000]\n",
    "max_depth=range(1,33)\n",
    "min_sample_leaf=np.linspace(0.1,1.0)\n",
    "max_features=['auto','sqrt','log2']\n",
    "min_sample_split=[0.1,1.0,10]\n",
    "\n",
    "#define grid search cv\n",
    "grid=dict(n_estimators=n_estimators)\n",
    "cv=RepeatedStratifiedKFold(n_splits=5,n_repeats=3,random_state=80)\n",
    "grid_search_forest=GridSearchCV(estimator=model,param_grid=grid,n_jobs=-1,\n",
    "                               scoring='r2',error_score=0,verbose=2,cv=3)\n",
    "grid_search_forest.fit(x_train_std,y_train)\n",
    "\n",
    "#summarize the result\n",
    "print(f\"best:{grid_search_forest.best_score_:.3f} using{grid_search_forest.best_params_}\")\n",
    "means=grid_search_forest.cv_results_['mean_test_score']\n",
    "stds=grid_search_forest.cv_results_['std_test_score']\n",
    "params=grid_search_forest.cv_results_['params']\n",
    "\n",
    "for mean,stdev,param in zip(means,stds,params):\n",
    "    print(f\"{mean:.3f}) ({stdev:.3f}) with:{params}\")\n"
   ]
  },
  {
   "cell_type": "code",
   "execution_count": 64,
   "id": "e8d2237c",
   "metadata": {},
   "outputs": [],
   "source": [
    "import joblib"
   ]
  },
  {
   "cell_type": "code",
   "execution_count": 65,
   "id": "5ceb34bb",
   "metadata": {},
   "outputs": [
    {
     "data": {
      "text/plain": [
       "['C:\\\\Users\\\\arbaazkhan\\\\Downloads\\\\ana python\\\\Untitled Folder\\\\venv\\\\models\\\\rsf.sav']"
      ]
     },
     "execution_count": 65,
     "metadata": {},
     "output_type": "execute_result"
    }
   ],
   "source": [
    "joblib.dump(grid_search_forest,r'C:\\Users\\arbaazkhan\\Downloads\\ana python\\Untitled Folder\\venv\\models\\rsf.sav')"
   ]
  },
  {
   "cell_type": "code",
   "execution_count": null,
   "id": "d3626be7",
   "metadata": {},
   "outputs": [],
   "source": []
  },
  {
   "cell_type": "code",
   "execution_count": null,
   "id": "d0b8469b",
   "metadata": {},
   "outputs": [],
   "source": []
  },
  {
   "cell_type": "code",
   "execution_count": null,
   "id": "072a6cf9",
   "metadata": {},
   "outputs": [],
   "source": []
  },
  {
   "cell_type": "code",
   "execution_count": null,
   "id": "7de3e376",
   "metadata": {},
   "outputs": [],
   "source": []
  }
 ],
 "metadata": {
  "kernelspec": {
   "display_name": "Python 3",
   "language": "python",
   "name": "python3"
  },
  "language_info": {
   "codemirror_mode": {
    "name": "ipython",
    "version": 3
   },
   "file_extension": ".py",
   "mimetype": "text/x-python",
   "name": "python",
   "nbconvert_exporter": "python",
   "pygments_lexer": "ipython3",
   "version": "3.8.8"
  }
 },
 "nbformat": 4,
 "nbformat_minor": 5
}
